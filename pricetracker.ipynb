{
  "nbformat": 4,
  "nbformat_minor": 0,
  "metadata": {
    "colab": {
      "name": "pricetracker.ipynb",
      "provenance": [],
      "authorship_tag": "ABX9TyMbzepNYEq29KnFLxlRqCOt",
      "include_colab_link": true
    },
    "kernelspec": {
      "name": "python3",
      "display_name": "Python 3"
    }
  },
  "cells": [
    {
      "cell_type": "markdown",
      "metadata": {
        "id": "view-in-github",
        "colab_type": "text"
      },
      "source": [
        "<a href=\"https://colab.research.google.com/github/diwashsapkota/webscrapingpractice/blob/main/pricetracker.ipynb\" target=\"_parent\"><img src=\"https://colab.research.google.com/assets/colab-badge.svg\" alt=\"Open In Colab\"/></a>"
      ]
    },
    {
      "cell_type": "markdown",
      "metadata": {
        "id": "RHrBvai5jsIc"
      },
      "source": [
        "**Using BeautifulSoup to track the price of an item**"
      ]
    },
    {
      "cell_type": "code",
      "metadata": {
        "id": "H84f857Gjt8v"
      },
      "source": [
        "from bs4 import BeautifulSoup\n",
        "import requests"
      ],
      "execution_count": null,
      "outputs": []
    },
    {
      "cell_type": "code",
      "metadata": {
        "id": "ElN2S9P9jf5J",
        "outputId": "28f72db5-d42b-4bfd-a3a7-648ed477d535",
        "colab": {
          "base_uri": "https://localhost:8080/"
        }
      },
      "source": [
        "from google.colab import drive\n",
        "drive.mount('/content/drive')\n"
      ],
      "execution_count": null,
      "outputs": [
        {
          "output_type": "stream",
          "text": [
            "Mounted at /content/drive\n"
          ],
          "name": "stdout"
        }
      ]
    },
    {
      "cell_type": "code",
      "metadata": {
        "id": "qVcOWT3ik6nI"
      },
      "source": [
        "def priceTracker(url, itemclass):\n",
        "    response = requests.get(url, itemclass)\n",
        "    soup = BeautifulSoup(response.text, 'lxml')\n",
        "    #print(soup)\n",
        "    price = soup.find_all('div', {'class' : itemclass})[0].find().text\n",
        "    return price"
      ],
      "execution_count": null,
      "outputs": []
    },
    {
      "cell_type": "code",
      "metadata": {
        "id": "nrf7ToAqno8f",
        "outputId": "de8319ac-7b80-4337-bedd-4836faa662a6",
        "colab": {
          "base_uri": "https://localhost:8080/"
        }
      },
      "source": [
        "url = input('Enter the url of the device you wish to track: ')\n",
        "itemclass = input('Enter the class of the item you wish to track: ')\n",
        "price = priceTracker(url, itemclass)\n",
        "print('Current Price: ',price)"
      ],
      "execution_count": null,
      "outputs": [
        {
          "output_type": "stream",
          "text": [
            "Enter the url of the device you wish to track: https://finance.yahoo.com/quote/AAPL?p=AAPL\n",
            "Enter the class of the item you wish to track: D(ib) Va(m) Maw(65%) Ov(h)\n",
            "Current Price:  114.95+4.51 (+4.08%)At close:  4:00PM EST\n"
          ],
          "name": "stdout"
        }
      ]
    }
  ]
}